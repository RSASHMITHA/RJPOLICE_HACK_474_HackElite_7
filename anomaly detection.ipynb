{
 "cells": [
  {
   "cell_type": "code",
   "execution_count": 1,
   "id": "8320c964-ccc2-4475-be41-29df3d2e99fe",
   "metadata": {},
   "outputs": [],
   "source": [
    "import pandas as pd\n",
    "from sklearn.model_selection import train_test_split\n",
    "from sklearn.ensemble import IsolationForest\n",
    "from sklearn.metrics import classification_report, accuracy_score\n",
    "import matplotlib.pyplot as plt\n"
   ]
  },
  {
   "cell_type": "code",
   "execution_count": 2,
   "id": "c94311e1-09d2-4f8b-8bc8-e347d7eeb86e",
   "metadata": {},
   "outputs": [
    {
     "name": "stdout",
     "output_type": "stream",
     "text": [
      "   CustomerID           Name  Age       Address  AccountBalance   LastLogin  \\\n",
      "0        1001  Customer 1001   54  Address 1001     9507.272060  01-01-2022   \n",
      "1        1002  Customer 1002   35  Address 1002     7408.704536  02-01-2022   \n",
      "2        1003  Customer 1003   40  Address 1003     1715.321989  03-01-2022   \n",
      "3        1004  Customer 1004   30  Address 1004     3101.509134  04-01-2022   \n",
      "4        1005  Customer 1005   46  Address 1005     5405.766914  05-01-2022   \n",
      "\n",
      "   SuspiciousFlag  TransactionID  FraudIndicator Category  TransactionAmount  \\\n",
      "0               0              1               0    Other          79.413607   \n",
      "1               0              2               0   Online          12.053087   \n",
      "2               0              3               0   Travel          33.310357   \n",
      "3               0              4               0   Travel          46.121117   \n",
      "4               0              5               0    Other          54.051618   \n",
      "\n",
      "      Amount         Timestamp  MerchantID  AnomalyScore   MerchantName  \\\n",
      "0  55.530334  01-01-2022 00:00        2701      0.686699  Merchant 2001   \n",
      "1  12.881180  01-01-2022 01:00        2070      0.081749  Merchant 2002   \n",
      "2  50.176322  01-01-2022 02:00        2238      0.023857  Merchant 2003   \n",
      "3  41.634001  01-01-2022 03:00        2879      0.876994  Merchant 2004   \n",
      "4  78.122853  01-01-2022 04:00        2966      0.034059  Merchant 2005   \n",
      "\n",
      "        Location  \n",
      "0  Location 2001  \n",
      "1  Location 2002  \n",
      "2  Location 2003  \n",
      "3  Location 2004  \n",
      "4  Location 2005  \n",
      "        CustomerID          Age  AccountBalance  SuspiciousFlag  \\\n",
      "count  1000.000000  1000.000000     1000.000000     1000.000000   \n",
      "mean   1500.500000    39.892000     5558.067698        0.023000   \n",
      "std     288.819436    13.524394     2596.890997        0.149978   \n",
      "min    1001.000000    18.000000     1009.248716        0.000000   \n",
      "25%    1250.750000    28.000000     3297.255763        0.000000   \n",
      "50%    1500.500000    39.000000     5569.672709        0.000000   \n",
      "75%    1750.250000    51.000000     7910.029699        0.000000   \n",
      "max    2000.000000    64.000000     9999.776239        1.000000   \n",
      "\n",
      "       TransactionID  FraudIndicator  TransactionAmount       Amount  \\\n",
      "count    1000.000000     1000.000000        1000.000000  1000.000000   \n",
      "mean      500.500000        0.045000          55.853826    55.394871   \n",
      "std       288.819436        0.207408          26.093606    25.070809   \n",
      "min         1.000000        0.000000          10.057864    10.006933   \n",
      "25%       250.750000        0.000000          33.875129    34.502315   \n",
      "50%       500.500000        0.000000          55.958313    57.844325   \n",
      "75%       750.250000        0.000000          77.589391    75.858576   \n",
      "max      1000.000000        1.000000          99.784323    99.887410   \n",
      "\n",
      "        MerchantID  AnomalyScore  \n",
      "count  1000.000000   1000.000000  \n",
      "mean   2504.701000      0.492282  \n",
      "std     288.414883      0.288423  \n",
      "min    2001.000000      0.000234  \n",
      "25%    2254.500000      0.251802  \n",
      "50%    2500.500000      0.490242  \n",
      "75%    2761.250000      0.741888  \n",
      "max    3000.000000      0.999047  \n"
     ]
    }
   ],
   "source": [
    "df = pd.read_csv('data.csv')\n",
    "\n",
    "\n",
    "print(df.head())\n",
    "print(df.describe())\n"
   ]
  },
  {
   "cell_type": "code",
   "execution_count": 10,
   "id": "b5a346b1-886c-452a-85ec-638099c7a0ba",
   "metadata": {},
   "outputs": [
    {
     "name": "stdout",
     "output_type": "stream",
     "text": [
      "Index(['Name', 'Age', 'Address', 'AccountBalance', 'LastLogin',\n",
      "       'SuspiciousFlag', 'TransactionID', 'FraudIndicator', 'Category',\n",
      "       'TransactionAmount',\n",
      "       ...\n",
      "       'CustomerID_1991', 'CustomerID_1992', 'CustomerID_1993',\n",
      "       'CustomerID_1994', 'CustomerID_1995', 'CustomerID_1996',\n",
      "       'CustomerID_1997', 'CustomerID_1998', 'CustomerID_1999',\n",
      "       'CustomerID_2000'],\n",
      "      dtype='object', length=2662)\n"
     ]
    }
   ],
   "source": [
    "print(df.columns)"
   ]
  },
  {
   "cell_type": "code",
   "execution_count": 19,
   "id": "371927c4-7e75-4f39-84d1-f29a2a3c148e",
   "metadata": {},
   "outputs": [],
   "source": [
    "import pandas as pd\n",
    "from sklearn.decomposition import PCA\n",
    "from sklearn.ensemble import IsolationForest\n",
    "import matplotlib.pyplot as plt"
   ]
  },
  {
   "cell_type": "code",
   "execution_count": 29,
   "id": "ffb9d7ad-901e-4df4-9246-57a84cdea7d8",
   "metadata": {},
   "outputs": [],
   "source": [
    "import pandas as pd\n",
    "from sklearn.ensemble import IsolationForest\n",
    "import matplotlib.pyplot as plt\n",
    "from sklearn.preprocessing import StandardScaler"
   ]
  },
  {
   "cell_type": "code",
   "execution_count": 31,
   "id": "0bfac4f3-d9c6-4cc6-b894-5506c577e418",
   "metadata": {},
   "outputs": [
    {
     "data": {
      "text/html": [
       "<div>\n",
       "<style scoped>\n",
       "    .dataframe tbody tr th:only-of-type {\n",
       "        vertical-align: middle;\n",
       "    }\n",
       "\n",
       "    .dataframe tbody tr th {\n",
       "        vertical-align: top;\n",
       "    }\n",
       "\n",
       "    .dataframe thead th {\n",
       "        text-align: right;\n",
       "    }\n",
       "</style>\n",
       "<table border=\"1\" class=\"dataframe\">\n",
       "  <thead>\n",
       "    <tr style=\"text-align: right;\">\n",
       "      <th></th>\n",
       "      <th>Name</th>\n",
       "      <th>Age</th>\n",
       "      <th>Address</th>\n",
       "      <th>AccountBalance</th>\n",
       "      <th>LastLogin</th>\n",
       "      <th>SuspiciousFlag</th>\n",
       "      <th>FraudIndicator</th>\n",
       "      <th>Category</th>\n",
       "      <th>Amount</th>\n",
       "      <th>Timestamp</th>\n",
       "      <th>...</th>\n",
       "      <th>TransactionAmount_99.09515145</th>\n",
       "      <th>TransactionAmount_99.13454678</th>\n",
       "      <th>TransactionAmount_99.16801169</th>\n",
       "      <th>TransactionAmount_99.26625704</th>\n",
       "      <th>TransactionAmount_99.37033289</th>\n",
       "      <th>TransactionAmount_99.39547483</th>\n",
       "      <th>TransactionAmount_99.47675323</th>\n",
       "      <th>TransactionAmount_99.52235673</th>\n",
       "      <th>TransactionAmount_99.6010349</th>\n",
       "      <th>TransactionAmount_99.78432334</th>\n",
       "    </tr>\n",
       "  </thead>\n",
       "  <tbody>\n",
       "    <tr>\n",
       "      <th>0</th>\n",
       "      <td>Customer 1001</td>\n",
       "      <td>54</td>\n",
       "      <td>Address 1001</td>\n",
       "      <td>9507.272060</td>\n",
       "      <td>01-01-2022</td>\n",
       "      <td>0</td>\n",
       "      <td>0</td>\n",
       "      <td>Other</td>\n",
       "      <td>55.530334</td>\n",
       "      <td>2022-01-01 00:00:00</td>\n",
       "      <td>...</td>\n",
       "      <td>False</td>\n",
       "      <td>False</td>\n",
       "      <td>False</td>\n",
       "      <td>False</td>\n",
       "      <td>False</td>\n",
       "      <td>False</td>\n",
       "      <td>False</td>\n",
       "      <td>False</td>\n",
       "      <td>False</td>\n",
       "      <td>False</td>\n",
       "    </tr>\n",
       "    <tr>\n",
       "      <th>1</th>\n",
       "      <td>Customer 1002</td>\n",
       "      <td>35</td>\n",
       "      <td>Address 1002</td>\n",
       "      <td>7408.704536</td>\n",
       "      <td>02-01-2022</td>\n",
       "      <td>0</td>\n",
       "      <td>0</td>\n",
       "      <td>Online</td>\n",
       "      <td>12.881180</td>\n",
       "      <td>2022-01-01 01:00:00</td>\n",
       "      <td>...</td>\n",
       "      <td>False</td>\n",
       "      <td>False</td>\n",
       "      <td>False</td>\n",
       "      <td>False</td>\n",
       "      <td>False</td>\n",
       "      <td>False</td>\n",
       "      <td>False</td>\n",
       "      <td>False</td>\n",
       "      <td>False</td>\n",
       "      <td>False</td>\n",
       "    </tr>\n",
       "    <tr>\n",
       "      <th>2</th>\n",
       "      <td>Customer 1003</td>\n",
       "      <td>40</td>\n",
       "      <td>Address 1003</td>\n",
       "      <td>1715.321989</td>\n",
       "      <td>03-01-2022</td>\n",
       "      <td>0</td>\n",
       "      <td>0</td>\n",
       "      <td>Travel</td>\n",
       "      <td>50.176322</td>\n",
       "      <td>2022-01-01 02:00:00</td>\n",
       "      <td>...</td>\n",
       "      <td>False</td>\n",
       "      <td>False</td>\n",
       "      <td>False</td>\n",
       "      <td>False</td>\n",
       "      <td>False</td>\n",
       "      <td>False</td>\n",
       "      <td>False</td>\n",
       "      <td>False</td>\n",
       "      <td>False</td>\n",
       "      <td>False</td>\n",
       "    </tr>\n",
       "    <tr>\n",
       "      <th>3</th>\n",
       "      <td>Customer 1004</td>\n",
       "      <td>30</td>\n",
       "      <td>Address 1004</td>\n",
       "      <td>3101.509134</td>\n",
       "      <td>04-01-2022</td>\n",
       "      <td>0</td>\n",
       "      <td>0</td>\n",
       "      <td>Travel</td>\n",
       "      <td>41.634001</td>\n",
       "      <td>2022-01-01 03:00:00</td>\n",
       "      <td>...</td>\n",
       "      <td>False</td>\n",
       "      <td>False</td>\n",
       "      <td>False</td>\n",
       "      <td>False</td>\n",
       "      <td>False</td>\n",
       "      <td>False</td>\n",
       "      <td>False</td>\n",
       "      <td>False</td>\n",
       "      <td>False</td>\n",
       "      <td>False</td>\n",
       "    </tr>\n",
       "    <tr>\n",
       "      <th>4</th>\n",
       "      <td>Customer 1005</td>\n",
       "      <td>46</td>\n",
       "      <td>Address 1005</td>\n",
       "      <td>5405.766914</td>\n",
       "      <td>05-01-2022</td>\n",
       "      <td>0</td>\n",
       "      <td>0</td>\n",
       "      <td>Other</td>\n",
       "      <td>78.122853</td>\n",
       "      <td>2022-01-01 04:00:00</td>\n",
       "      <td>...</td>\n",
       "      <td>False</td>\n",
       "      <td>False</td>\n",
       "      <td>False</td>\n",
       "      <td>False</td>\n",
       "      <td>False</td>\n",
       "      <td>False</td>\n",
       "      <td>False</td>\n",
       "      <td>False</td>\n",
       "      <td>False</td>\n",
       "      <td>False</td>\n",
       "    </tr>\n",
       "    <tr>\n",
       "      <th>...</th>\n",
       "      <td>...</td>\n",
       "      <td>...</td>\n",
       "      <td>...</td>\n",
       "      <td>...</td>\n",
       "      <td>...</td>\n",
       "      <td>...</td>\n",
       "      <td>...</td>\n",
       "      <td>...</td>\n",
       "      <td>...</td>\n",
       "      <td>...</td>\n",
       "      <td>...</td>\n",
       "      <td>...</td>\n",
       "      <td>...</td>\n",
       "      <td>...</td>\n",
       "      <td>...</td>\n",
       "      <td>...</td>\n",
       "      <td>...</td>\n",
       "      <td>...</td>\n",
       "      <td>...</td>\n",
       "      <td>...</td>\n",
       "      <td>...</td>\n",
       "    </tr>\n",
       "    <tr>\n",
       "      <th>995</th>\n",
       "      <td>Customer 1996</td>\n",
       "      <td>33</td>\n",
       "      <td>Address 1996</td>\n",
       "      <td>8523.485163</td>\n",
       "      <td>22-09-2024</td>\n",
       "      <td>0</td>\n",
       "      <td>0</td>\n",
       "      <td>Food</td>\n",
       "      <td>19.876750</td>\n",
       "      <td>2022-02-11 11:00:00</td>\n",
       "      <td>...</td>\n",
       "      <td>False</td>\n",
       "      <td>False</td>\n",
       "      <td>False</td>\n",
       "      <td>False</td>\n",
       "      <td>False</td>\n",
       "      <td>False</td>\n",
       "      <td>False</td>\n",
       "      <td>False</td>\n",
       "      <td>False</td>\n",
       "      <td>False</td>\n",
       "    </tr>\n",
       "    <tr>\n",
       "      <th>996</th>\n",
       "      <td>Customer 1997</td>\n",
       "      <td>58</td>\n",
       "      <td>Address 1997</td>\n",
       "      <td>9255.451757</td>\n",
       "      <td>23-09-2024</td>\n",
       "      <td>0</td>\n",
       "      <td>0</td>\n",
       "      <td>Retail</td>\n",
       "      <td>96.299792</td>\n",
       "      <td>2022-02-11 12:00:00</td>\n",
       "      <td>...</td>\n",
       "      <td>False</td>\n",
       "      <td>False</td>\n",
       "      <td>False</td>\n",
       "      <td>False</td>\n",
       "      <td>False</td>\n",
       "      <td>False</td>\n",
       "      <td>False</td>\n",
       "      <td>False</td>\n",
       "      <td>False</td>\n",
       "      <td>False</td>\n",
       "    </tr>\n",
       "    <tr>\n",
       "      <th>997</th>\n",
       "      <td>Customer 1998</td>\n",
       "      <td>25</td>\n",
       "      <td>Address 1998</td>\n",
       "      <td>9148.652759</td>\n",
       "      <td>24-09-2024</td>\n",
       "      <td>0</td>\n",
       "      <td>0</td>\n",
       "      <td>Food</td>\n",
       "      <td>75.164459</td>\n",
       "      <td>2022-02-11 13:00:00</td>\n",
       "      <td>...</td>\n",
       "      <td>False</td>\n",
       "      <td>False</td>\n",
       "      <td>False</td>\n",
       "      <td>False</td>\n",
       "      <td>False</td>\n",
       "      <td>False</td>\n",
       "      <td>False</td>\n",
       "      <td>False</td>\n",
       "      <td>False</td>\n",
       "      <td>False</td>\n",
       "    </tr>\n",
       "    <tr>\n",
       "      <th>998</th>\n",
       "      <td>Customer 1999</td>\n",
       "      <td>57</td>\n",
       "      <td>Address 1999</td>\n",
       "      <td>7376.854107</td>\n",
       "      <td>25-09-2024</td>\n",
       "      <td>0</td>\n",
       "      <td>0</td>\n",
       "      <td>Travel</td>\n",
       "      <td>93.633040</td>\n",
       "      <td>2022-02-11 14:00:00</td>\n",
       "      <td>...</td>\n",
       "      <td>False</td>\n",
       "      <td>False</td>\n",
       "      <td>False</td>\n",
       "      <td>False</td>\n",
       "      <td>False</td>\n",
       "      <td>False</td>\n",
       "      <td>False</td>\n",
       "      <td>False</td>\n",
       "      <td>False</td>\n",
       "      <td>False</td>\n",
       "    </tr>\n",
       "    <tr>\n",
       "      <th>999</th>\n",
       "      <td>Customer 2000</td>\n",
       "      <td>42</td>\n",
       "      <td>Address 2000</td>\n",
       "      <td>4853.024380</td>\n",
       "      <td>26-09-2024</td>\n",
       "      <td>0</td>\n",
       "      <td>0</td>\n",
       "      <td>Other</td>\n",
       "      <td>89.915625</td>\n",
       "      <td>2022-02-11 15:00:00</td>\n",
       "      <td>...</td>\n",
       "      <td>False</td>\n",
       "      <td>False</td>\n",
       "      <td>False</td>\n",
       "      <td>False</td>\n",
       "      <td>False</td>\n",
       "      <td>False</td>\n",
       "      <td>False</td>\n",
       "      <td>False</td>\n",
       "      <td>False</td>\n",
       "      <td>False</td>\n",
       "    </tr>\n",
       "  </tbody>\n",
       "</table>\n",
       "<p>1000 rows × 4658 columns</p>\n",
       "</div>"
      ],
      "text/plain": [
       "              Name  Age       Address  AccountBalance   LastLogin  \\\n",
       "0    Customer 1001   54  Address 1001     9507.272060  01-01-2022   \n",
       "1    Customer 1002   35  Address 1002     7408.704536  02-01-2022   \n",
       "2    Customer 1003   40  Address 1003     1715.321989  03-01-2022   \n",
       "3    Customer 1004   30  Address 1004     3101.509134  04-01-2022   \n",
       "4    Customer 1005   46  Address 1005     5405.766914  05-01-2022   \n",
       "..             ...  ...           ...             ...         ...   \n",
       "995  Customer 1996   33  Address 1996     8523.485163  22-09-2024   \n",
       "996  Customer 1997   58  Address 1997     9255.451757  23-09-2024   \n",
       "997  Customer 1998   25  Address 1998     9148.652759  24-09-2024   \n",
       "998  Customer 1999   57  Address 1999     7376.854107  25-09-2024   \n",
       "999  Customer 2000   42  Address 2000     4853.024380  26-09-2024   \n",
       "\n",
       "     SuspiciousFlag  FraudIndicator Category     Amount           Timestamp  \\\n",
       "0                 0               0    Other  55.530334 2022-01-01 00:00:00   \n",
       "1                 0               0   Online  12.881180 2022-01-01 01:00:00   \n",
       "2                 0               0   Travel  50.176322 2022-01-01 02:00:00   \n",
       "3                 0               0   Travel  41.634001 2022-01-01 03:00:00   \n",
       "4                 0               0    Other  78.122853 2022-01-01 04:00:00   \n",
       "..              ...             ...      ...        ...                 ...   \n",
       "995               0               0     Food  19.876750 2022-02-11 11:00:00   \n",
       "996               0               0   Retail  96.299792 2022-02-11 12:00:00   \n",
       "997               0               0     Food  75.164459 2022-02-11 13:00:00   \n",
       "998               0               0   Travel  93.633040 2022-02-11 14:00:00   \n",
       "999               0               0    Other  89.915625 2022-02-11 15:00:00   \n",
       "\n",
       "     ...  TransactionAmount_99.09515145 TransactionAmount_99.13454678  \\\n",
       "0    ...                          False                         False   \n",
       "1    ...                          False                         False   \n",
       "2    ...                          False                         False   \n",
       "3    ...                          False                         False   \n",
       "4    ...                          False                         False   \n",
       "..   ...                            ...                           ...   \n",
       "995  ...                          False                         False   \n",
       "996  ...                          False                         False   \n",
       "997  ...                          False                         False   \n",
       "998  ...                          False                         False   \n",
       "999  ...                          False                         False   \n",
       "\n",
       "     TransactionAmount_99.16801169  TransactionAmount_99.26625704  \\\n",
       "0                            False                          False   \n",
       "1                            False                          False   \n",
       "2                            False                          False   \n",
       "3                            False                          False   \n",
       "4                            False                          False   \n",
       "..                             ...                            ...   \n",
       "995                          False                          False   \n",
       "996                          False                          False   \n",
       "997                          False                          False   \n",
       "998                          False                          False   \n",
       "999                          False                          False   \n",
       "\n",
       "     TransactionAmount_99.37033289  TransactionAmount_99.39547483  \\\n",
       "0                            False                          False   \n",
       "1                            False                          False   \n",
       "2                            False                          False   \n",
       "3                            False                          False   \n",
       "4                            False                          False   \n",
       "..                             ...                            ...   \n",
       "995                          False                          False   \n",
       "996                          False                          False   \n",
       "997                          False                          False   \n",
       "998                          False                          False   \n",
       "999                          False                          False   \n",
       "\n",
       "     TransactionAmount_99.47675323  TransactionAmount_99.52235673  \\\n",
       "0                            False                          False   \n",
       "1                            False                          False   \n",
       "2                            False                          False   \n",
       "3                            False                          False   \n",
       "4                            False                          False   \n",
       "..                             ...                            ...   \n",
       "995                          False                          False   \n",
       "996                          False                          False   \n",
       "997                          False                          False   \n",
       "998                          False                          False   \n",
       "999                          False                          False   \n",
       "\n",
       "     TransactionAmount_99.6010349  TransactionAmount_99.78432334  \n",
       "0                           False                          False  \n",
       "1                           False                          False  \n",
       "2                           False                          False  \n",
       "3                           False                          False  \n",
       "4                           False                          False  \n",
       "..                            ...                            ...  \n",
       "995                         False                          False  \n",
       "996                         False                          False  \n",
       "997                         False                          False  \n",
       "998                         False                          False  \n",
       "999                         False                          False  \n",
       "\n",
       "[1000 rows x 4658 columns]"
      ]
     },
     "execution_count": 31,
     "metadata": {},
     "output_type": "execute_result"
    }
   ],
   "source": [
    "df.head(1000)"
   ]
  },
  {
   "cell_type": "code",
   "execution_count": 89,
   "id": "03481b4c-40be-490c-97fc-ba23ccaf0f10",
   "metadata": {},
   "outputs": [],
   "source": [
    "selected_columns = ['Age', 'AccountBalance',\n",
    "       'SuspiciousFlag', 'FraudIndicator', 'Amount', 'Timestamp']"
   ]
  },
  {
   "cell_type": "code",
   "execution_count": 53,
   "id": "1482c869-1792-4fde-b5b9-9892426ce108",
   "metadata": {},
   "outputs": [],
   "source": [
    "selected_df = df[selected_columns]"
   ]
  },
  {
   "cell_type": "code",
   "execution_count": 47,
   "id": "51759de0-ce01-4c7c-9d55-478bc430c8f9",
   "metadata": {},
   "outputs": [],
   "source": [
    "selected_df = selected_df.dropna()"
   ]
  },
  {
   "cell_type": "code",
   "execution_count": 57,
   "id": "8d4acf17-d2a0-436f-a431-824c71d31ffb",
   "metadata": {},
   "outputs": [],
   "source": [
    "df['Timestamp'] = df['Timestamp'].astype('int64') // 10**9\n"
   ]
  },
  {
   "cell_type": "code",
   "execution_count": 61,
   "id": "102b9e88-e3e2-403b-9d02-280f902db484",
   "metadata": {},
   "outputs": [],
   "source": [
    "numeric_columns = ['Age', 'AccountBalance', 'Amount', 'Timestamp', 'AnomalyScore']"
   ]
  },
  {
   "cell_type": "code",
   "execution_count": 62,
   "id": "82776785-cf21-4aac-bf68-a3b9fb57e904",
   "metadata": {},
   "outputs": [],
   "source": [
    "selected_df_numeric = df[numeric_columns]"
   ]
  },
  {
   "cell_type": "code",
   "execution_count": 63,
   "id": "a8e9ecc2-fc68-4f52-98a6-a6edf0706ad7",
   "metadata": {},
   "outputs": [],
   "source": [
    "scaler = StandardScaler()"
   ]
  },
  {
   "cell_type": "code",
   "execution_count": 64,
   "id": "5b5f4dde-b541-460a-a066-f91788fb510c",
   "metadata": {},
   "outputs": [],
   "source": [
    "selected_df_scaled = scaler.fit_transform(selected_df_numeric)"
   ]
  },
  {
   "cell_type": "code",
   "execution_count": 65,
   "id": "9de9f654-b5ba-4eef-a747-0c52082e7cb4",
   "metadata": {},
   "outputs": [
    {
     "data": {
      "text/html": [
       "<style>#sk-container-id-1 {color: black;}#sk-container-id-1 pre{padding: 0;}#sk-container-id-1 div.sk-toggleable {background-color: white;}#sk-container-id-1 label.sk-toggleable__label {cursor: pointer;display: block;width: 100%;margin-bottom: 0;padding: 0.3em;box-sizing: border-box;text-align: center;}#sk-container-id-1 label.sk-toggleable__label-arrow:before {content: \"▸\";float: left;margin-right: 0.25em;color: #696969;}#sk-container-id-1 label.sk-toggleable__label-arrow:hover:before {color: black;}#sk-container-id-1 div.sk-estimator:hover label.sk-toggleable__label-arrow:before {color: black;}#sk-container-id-1 div.sk-toggleable__content {max-height: 0;max-width: 0;overflow: hidden;text-align: left;background-color: #f0f8ff;}#sk-container-id-1 div.sk-toggleable__content pre {margin: 0.2em;color: black;border-radius: 0.25em;background-color: #f0f8ff;}#sk-container-id-1 input.sk-toggleable__control:checked~div.sk-toggleable__content {max-height: 200px;max-width: 100%;overflow: auto;}#sk-container-id-1 input.sk-toggleable__control:checked~label.sk-toggleable__label-arrow:before {content: \"▾\";}#sk-container-id-1 div.sk-estimator input.sk-toggleable__control:checked~label.sk-toggleable__label {background-color: #d4ebff;}#sk-container-id-1 div.sk-label input.sk-toggleable__control:checked~label.sk-toggleable__label {background-color: #d4ebff;}#sk-container-id-1 input.sk-hidden--visually {border: 0;clip: rect(1px 1px 1px 1px);clip: rect(1px, 1px, 1px, 1px);height: 1px;margin: -1px;overflow: hidden;padding: 0;position: absolute;width: 1px;}#sk-container-id-1 div.sk-estimator {font-family: monospace;background-color: #f0f8ff;border: 1px dotted black;border-radius: 0.25em;box-sizing: border-box;margin-bottom: 0.5em;}#sk-container-id-1 div.sk-estimator:hover {background-color: #d4ebff;}#sk-container-id-1 div.sk-parallel-item::after {content: \"\";width: 100%;border-bottom: 1px solid gray;flex-grow: 1;}#sk-container-id-1 div.sk-label:hover label.sk-toggleable__label {background-color: #d4ebff;}#sk-container-id-1 div.sk-serial::before {content: \"\";position: absolute;border-left: 1px solid gray;box-sizing: border-box;top: 0;bottom: 0;left: 50%;z-index: 0;}#sk-container-id-1 div.sk-serial {display: flex;flex-direction: column;align-items: center;background-color: white;padding-right: 0.2em;padding-left: 0.2em;position: relative;}#sk-container-id-1 div.sk-item {position: relative;z-index: 1;}#sk-container-id-1 div.sk-parallel {display: flex;align-items: stretch;justify-content: center;background-color: white;position: relative;}#sk-container-id-1 div.sk-item::before, #sk-container-id-1 div.sk-parallel-item::before {content: \"\";position: absolute;border-left: 1px solid gray;box-sizing: border-box;top: 0;bottom: 0;left: 50%;z-index: -1;}#sk-container-id-1 div.sk-parallel-item {display: flex;flex-direction: column;z-index: 1;position: relative;background-color: white;}#sk-container-id-1 div.sk-parallel-item:first-child::after {align-self: flex-end;width: 50%;}#sk-container-id-1 div.sk-parallel-item:last-child::after {align-self: flex-start;width: 50%;}#sk-container-id-1 div.sk-parallel-item:only-child::after {width: 0;}#sk-container-id-1 div.sk-dashed-wrapped {border: 1px dashed gray;margin: 0 0.4em 0.5em 0.4em;box-sizing: border-box;padding-bottom: 0.4em;background-color: white;}#sk-container-id-1 div.sk-label label {font-family: monospace;font-weight: bold;display: inline-block;line-height: 1.2em;}#sk-container-id-1 div.sk-label-container {text-align: center;}#sk-container-id-1 div.sk-container {/* jupyter's `normalize.less` sets `[hidden] { display: none; }` but bootstrap.min.css set `[hidden] { display: none !important; }` so we also need the `!important` here to be able to override the default hidden behavior on the sphinx rendered scikit-learn.org. See: https://github.com/scikit-learn/scikit-learn/issues/21755 */display: inline-block !important;position: relative;}#sk-container-id-1 div.sk-text-repr-fallback {display: none;}</style><div id=\"sk-container-id-1\" class=\"sk-top-container\"><div class=\"sk-text-repr-fallback\"><pre>IsolationForest(contamination=0.05, random_state=42)</pre><b>In a Jupyter environment, please rerun this cell to show the HTML representation or trust the notebook. <br />On GitHub, the HTML representation is unable to render, please try loading this page with nbviewer.org.</b></div><div class=\"sk-container\" hidden><div class=\"sk-item\"><div class=\"sk-estimator sk-toggleable\"><input class=\"sk-toggleable__control sk-hidden--visually\" id=\"sk-estimator-id-1\" type=\"checkbox\" checked><label for=\"sk-estimator-id-1\" class=\"sk-toggleable__label sk-toggleable__label-arrow\">IsolationForest</label><div class=\"sk-toggleable__content\"><pre>IsolationForest(contamination=0.05, random_state=42)</pre></div></div></div></div></div>"
      ],
      "text/plain": [
       "IsolationForest(contamination=0.05, random_state=42)"
      ]
     },
     "execution_count": 65,
     "metadata": {},
     "output_type": "execute_result"
    }
   ],
   "source": [
    "model = IsolationForest(contamination=0.05, random_state=42)\n",
    "model.fit(selected_df_scaled)"
   ]
  },
  {
   "cell_type": "code",
   "execution_count": 67,
   "id": "eacdc950-10c6-4811-8778-680cf1fe0d6a",
   "metadata": {},
   "outputs": [],
   "source": [
    "selected_df.loc[:, 'AnomalyScore'] = model.decision_function(selected_df_scaled)\n",
    "selected_df.loc[:, 'AnomalyLabel'] = selected_df['AnomalyScore'].apply(lambda x: 1 if x < 0 else 0)\n"
   ]
  },
  {
   "cell_type": "code",
   "execution_count": 68,
   "id": "06f74e10-fb58-4f38-a7ec-ac75e9108342",
   "metadata": {},
   "outputs": [
    {
     "data": {
      "image/png": "[encoded data removed]",
      "text/plain": [
       "<Figure size 640x480 with 1 Axes>"
      ]
     },
     "metadata": {},
     "output_type": "display_data"
    }
   ],
   "source": [
    "plt.scatter(selected_df.index, selected_df['AnomalyScore'], c=selected_df['AnomalyLabel'], cmap='viridis')\n",
    "plt.xlabel('Data Point Index')\n",
    "plt.ylabel('Anomaly Score')\n",
    "plt.title('Anomaly Detection Results')\n",
    "plt.show()\n"
   ]
  },
  {
   "cell_type": "code",
   "execution_count": 87,
   "id": "6e1c116a-f110-4853-8a5a-fb5e5bffbdd1",
   "metadata": {},
   "outputs": [
    {
     "name": "stdout",
     "output_type": "stream",
     "text": [
      "     Age  AccountBalance  SuspiciousFlag  FraudIndicator     Amount  \\\n",
      "229   29     8998.835909               0               0  99.719234   \n",
      "678   54     3796.236041               0               0  11.082270   \n",
      "448   64     3495.320360               0               0  12.954726   \n",
      "15    22     8612.857297               0               0  20.735039   \n",
      "747   58     1787.742772               0               0  97.692353   \n",
      "981   46     4575.522471               0               0  15.880654   \n",
      "303   62     9631.517578               0               0  15.083583   \n",
      "988   18     3448.958441               0               0  20.443811   \n",
      "840   22     9319.481714               0               0  99.577661   \n",
      "684   18     3046.120485               0               0  94.337502   \n",
      "784   26     1549.517860               0               0  93.974769   \n",
      "941   51     9839.150446               0               0  12.611479   \n",
      "773   59     1765.177082               0               0  11.028018   \n",
      "542   58     1465.984460               0               0  99.775358   \n",
      "996   58     9255.451757               0               0  96.299792   \n",
      "884   19     2509.391536               0               0  23.449818   \n",
      "412   18     1279.671577               0               0  98.500407   \n",
      "13    27     9922.291973               0               0  98.804250   \n",
      "132   58     1148.279335               0               0  92.369725   \n",
      "30    29     9499.505792               0               0  92.619303   \n",
      "956   57     1547.054576               0               0  13.131711   \n",
      "410   19     1290.323059               0               0  98.397095   \n",
      "14    59     3146.248188               0               0  99.832634   \n",
      "738   61     3264.953505               0               0  15.699135   \n",
      "21    55     4265.273573               0               0  99.100427   \n",
      "966   21     1188.952992               0               0  29.363762   \n",
      "395   18     6020.821959               0               0  97.547095   \n",
      "1     35     7408.704536               0               0  12.881180   \n",
      "998   57     7376.854107               0               0  93.633040   \n",
      "913   18     6131.253863               0               0  96.523142   \n",
      "5     59     9347.967162               0               0  86.947084   \n",
      "38    56     6851.673712               0               0  14.631689   \n",
      "73    57     8877.682363               0               0  16.263449   \n",
      "9     26     9506.882689               0               0  17.245409   \n",
      "\n",
      "              Timestamp  AnomalyScore  AnomalyLabel  \n",
      "229 2022-01-10 13:00:00     -0.009416             1  \n",
      "678 2022-01-29 06:00:00     -0.012858             1  \n",
      "448 2022-01-19 16:00:00     -0.001835             1  \n",
      "15  2022-01-01 15:00:00     -0.002236             1  \n",
      "747 2022-02-01 03:00:00     -0.000681             1  \n",
      "981 2022-02-10 21:00:00     -0.006784             1  \n",
      "303 2022-01-13 15:00:00     -0.006678             1  \n",
      "988 2022-02-11 04:00:00     -0.049980             1  \n",
      "840 2022-02-05 00:00:00     -0.020085             1  \n",
      "684 2022-01-29 12:00:00     -0.011150             1  \n",
      "784 2022-02-02 16:00:00     -0.002582             1  \n",
      "941 2022-02-09 05:00:00     -0.013165             1  \n",
      "773 2022-02-02 05:00:00     -0.003740             1  \n",
      "542 2022-01-23 14:00:00     -0.002886             1  \n",
      "996 2022-02-11 12:00:00     -0.005528             1  \n",
      "884 2022-02-06 20:00:00     -0.012035             1  \n",
      "412 2022-01-18 04:00:00     -0.045507             1  \n",
      "13  2022-01-01 13:00:00     -0.057010             1  \n",
      "132 2022-01-06 12:00:00     -0.002784             1  \n",
      "30  2022-01-02 06:00:00     -0.003702             1  \n",
      "956 2022-02-09 20:00:00     -0.009985             1  \n",
      "410 2022-01-18 02:00:00     -0.009838             1  \n",
      "14  2022-01-01 14:00:00     -0.006724             1  \n",
      "738 2022-01-31 18:00:00     -0.003822             1  \n",
      "21  2022-01-01 21:00:00     -0.012154             1  \n",
      "966 2022-02-10 06:00:00     -0.027494             1  \n",
      "395 2022-01-17 11:00:00     -0.006864             1  \n",
      "1   2022-01-01 01:00:00     -0.000168             1  \n",
      "998 2022-02-11 14:00:00     -0.002304             1  \n",
      "913 2022-02-08 01:00:00     -0.010587             1  \n",
      "5   2022-01-01 05:00:00     -0.008535             1  \n",
      "38  2022-01-02 14:00:00     -0.000775             1  \n",
      "73  2022-01-04 01:00:00     -0.014855             1  \n",
      "9   2022-01-01 09:00:00     -0.024644             1  \n"
     ]
    }
   ],
   "source": [
    "anomalies = selected_df[selected_df['AnomalyLabel'] == 1]\n",
    "print(anomalies)"
   ]
  },
  {
   "cell_type": "code",
   "execution_count": 70,
   "id": "4f8904c7-2d57-4549-a45c-16aaea38cbe9",
   "metadata": {},
   "outputs": [],
   "source": [
    "X = selected_df.drop('AnomalyLabel', axis=1)\n",
    "y = selected_df['AnomalyLabel']"
   ]
  },
  {
   "cell_type": "code",
   "execution_count": 71,
   "id": "532155dd-1037-4a32-bedd-4d9447926748",
   "metadata": {},
   "outputs": [],
   "source": [
    "X_train, X_test, y_train, y_test = train_test_split(X, y, test_size=0.2, random_state=42)"
   ]
  },
  {
   "cell_type": "code",
   "execution_count": 74,
   "id": "8daa73d9-ae93-4beb-9201-ebd243c83295",
   "metadata": {},
   "outputs": [],
   "source": [
    "X_train['Timestamp'] = pd.to_datetime(X_train['Timestamp']).astype('int64') // 10**9"
   ]
  },
  {
   "cell_type": "code",
   "execution_count": 75,
   "id": "8e0d6a7d-afd4-4708-bc89-9e5fb41480ec",
   "metadata": {},
   "outputs": [
    {
     "data": {
      "text/html": [
       "<style>#sk-container-id-2 {color: black;}#sk-container-id-2 pre{padding: 0;}#sk-container-id-2 div.sk-toggleable {background-color: white;}#sk-container-id-2 label.sk-toggleable__label {cursor: pointer;display: block;width: 100%;margin-bottom: 0;padding: 0.3em;box-sizing: border-box;text-align: center;}#sk-container-id-2 label.sk-toggleable__label-arrow:before {content: \"▸\";float: left;margin-right: 0.25em;color: #696969;}#sk-container-id-2 label.sk-toggleable__label-arrow:hover:before {color: black;}#sk-container-id-2 div.sk-estimator:hover label.sk-toggleable__label-arrow:before {color: black;}#sk-container-id-2 div.sk-toggleable__content {max-height: 0;max-width: 0;overflow: hidden;text-align: left;background-color: #f0f8ff;}#sk-container-id-2 div.sk-toggleable__content pre {margin: 0.2em;color: black;border-radius: 0.25em;background-color: #f0f8ff;}#sk-container-id-2 input.sk-toggleable__control:checked~div.sk-toggleable__content {max-height: 200px;max-width: 100%;overflow: auto;}#sk-container-id-2 input.sk-toggleable__control:checked~label.sk-toggleable__label-arrow:before {content: \"▾\";}#sk-container-id-2 div.sk-estimator input.sk-toggleable__control:checked~label.sk-toggleable__label {background-color: #d4ebff;}#sk-container-id-2 div.sk-label input.sk-toggleable__control:checked~label.sk-toggleable__label {background-color: #d4ebff;}#sk-container-id-2 input.sk-hidden--visually {border: 0;clip: rect(1px 1px 1px 1px);clip: rect(1px, 1px, 1px, 1px);height: 1px;margin: -1px;overflow: hidden;padding: 0;position: absolute;width: 1px;}#sk-container-id-2 div.sk-estimator {font-family: monospace;background-color: #f0f8ff;border: 1px dotted black;border-radius: 0.25em;box-sizing: border-box;margin-bottom: 0.5em;}#sk-container-id-2 div.sk-estimator:hover {background-color: #d4ebff;}#sk-container-id-2 div.sk-parallel-item::after {content: \"\";width: 100%;border-bottom: 1px solid gray;flex-grow: 1;}#sk-container-id-2 div.sk-label:hover label.sk-toggleable__label {background-color: #d4ebff;}#sk-container-id-2 div.sk-serial::before {content: \"\";position: absolute;border-left: 1px solid gray;box-sizing: border-box;top: 0;bottom: 0;left: 50%;z-index: 0;}#sk-container-id-2 div.sk-serial {display: flex;flex-direction: column;align-items: center;background-color: white;padding-right: 0.2em;padding-left: 0.2em;position: relative;}#sk-container-id-2 div.sk-item {position: relative;z-index: 1;}#sk-container-id-2 div.sk-parallel {display: flex;align-items: stretch;justify-content: center;background-color: white;position: relative;}#sk-container-id-2 div.sk-item::before, #sk-container-id-2 div.sk-parallel-item::before {content: \"\";position: absolute;border-left: 1px solid gray;box-sizing: border-box;top: 0;bottom: 0;left: 50%;z-index: -1;}#sk-container-id-2 div.sk-parallel-item {display: flex;flex-direction: column;z-index: 1;position: relative;background-color: white;}#sk-container-id-2 div.sk-parallel-item:first-child::after {align-self: flex-end;width: 50%;}#sk-container-id-2 div.sk-parallel-item:last-child::after {align-self: flex-start;width: 50%;}#sk-container-id-2 div.sk-parallel-item:only-child::after {width: 0;}#sk-container-id-2 div.sk-dashed-wrapped {border: 1px dashed gray;margin: 0 0.4em 0.5em 0.4em;box-sizing: border-box;padding-bottom: 0.4em;background-color: white;}#sk-container-id-2 div.sk-label label {font-family: monospace;font-weight: bold;display: inline-block;line-height: 1.2em;}#sk-container-id-2 div.sk-label-container {text-align: center;}#sk-container-id-2 div.sk-container {/* jupyter's `normalize.less` sets `[hidden] { display: none; }` but bootstrap.min.css set `[hidden] { display: none !important; }` so we also need the `!important` here to be able to override the default hidden behavior on the sphinx rendered scikit-learn.org. See: https://github.com/scikit-learn/scikit-learn/issues/21755 */display: inline-block !important;position: relative;}#sk-container-id-2 div.sk-text-repr-fallback {display: none;}</style><div id=\"sk-container-id-2\" class=\"sk-top-container\"><div class=\"sk-text-repr-fallback\"><pre>IsolationForest(contamination=0.05, random_state=42)</pre><b>In a Jupyter environment, please rerun this cell to show the HTML representation or trust the notebook. <br />On GitHub, the HTML representation is unable to render, please try loading this page with nbviewer.org.</b></div><div class=\"sk-container\" hidden><div class=\"sk-item\"><div class=\"sk-estimator sk-toggleable\"><input class=\"sk-toggleable__control sk-hidden--visually\" id=\"sk-estimator-id-2\" type=\"checkbox\" checked><label for=\"sk-estimator-id-2\" class=\"sk-toggleable__label sk-toggleable__label-arrow\">IsolationForest</label><div class=\"sk-toggleable__content\"><pre>IsolationForest(contamination=0.05, random_state=42)</pre></div></div></div></div></div>"
      ],
      "text/plain": [
       "IsolationForest(contamination=0.05, random_state=42)"
      ]
     },
     "execution_count": 75,
     "metadata": {},
     "output_type": "execute_result"
    }
   ],
   "source": [
    "model = IsolationForest(contamination=0.05, random_state=42)\n",
    "model.fit(X_train)"
   ]
  },
  {
   "cell_type": "code",
   "execution_count": 77,
   "id": "2e71c11b-1978-4ad3-9c5e-52042b89d82f",
   "metadata": {},
   "outputs": [],
   "source": [
    "X_test['Timestamp'] = pd.to_datetime(X_test['Timestamp']).astype('int64') // 10**9\n",
    "y_pred = model.predict(X_test)"
   ]
  },
  {
   "cell_type": "code",
   "execution_count": 78,
   "id": "83cd9143-af99-43ed-934f-083f554a4c89",
   "metadata": {},
   "outputs": [],
   "source": [
    "y_pred_binary = [1 if x == -1 else 0 for x in y_pred]"
   ]
  },
  {
   "cell_type": "code",
   "execution_count": 80,
   "id": "f83e379d-aa7e-44e2-9835-020b2b62451e",
   "metadata": {},
   "outputs": [],
   "source": [
    "from sklearn.metrics import confusion_matrix, classification_report"
   ]
  },
  {
   "cell_type": "code",
   "execution_count": 81,
   "id": "6fbfc9cf-065d-4b8c-a62c-316cee17d2da",
   "metadata": {},
   "outputs": [
    {
     "name": "stdout",
     "output_type": "stream",
     "text": [
      "[[183   7]\n",
      " [ 10   0]]\n",
      "              precision    recall  f1-score   support\n",
      "\n",
      "           0       0.95      0.96      0.96       190\n",
      "           1       0.00      0.00      0.00        10\n",
      "\n",
      "    accuracy                           0.92       200\n",
      "   macro avg       0.47      0.48      0.48       200\n",
      "weighted avg       0.90      0.92      0.91       200\n",
      "\n"
     ]
    }
   ],
   "source": [
    "print(confusion_matrix(y_test, y_pred_binary))\n",
    "print(classification_report(y_test, y_pred_binary))"
   ]
  },
  {
   "cell_type": "code",
   "execution_count": 88,
   "id": "0ffb4167-fc7b-41fa-b268-75e3c8e98da2",
   "metadata": {},
   "outputs": [],
   "source": [
    "import pandas as pd\n",
    "from sklearn.ensemble import IsolationForest\n",
    "from sklearn.svm import OneClassSVM\n",
    "from sklearn.neighbors import LocalOutlierFactor\n",
    "from sklearn.preprocessing import StandardScaler\n",
    "from sklearn.metrics import confusion_matrix, classification_report\n",
    "import matplotlib.pyplot as plt"
   ]
  },
  {
   "cell_type": "code",
   "execution_count": 90,
   "id": "8945aa05-592a-4d72-8d0a-ebee994385ed",
   "metadata": {},
   "outputs": [],
   "source": [
    "def preprocess_data(df):\n",
    "    selected_columns = ['CustomerID', 'Age', 'AccountBalance', 'LastLogin', 'SuspiciousFlag', 'TransactionAmount', 'Amount', 'Timestamp']"
   ]
  },
  {
   "cell_type": "code",
   "execution_count": 91,
   "id": "43d6b933-a892-41f1-bd4a-fa692a479e9d",
   "metadata": {},
   "outputs": [],
   "source": [
    "selected_df = df[selected_columns]"
   ]
  },
  {
   "cell_type": "code",
   "execution_count": 92,
   "id": "cd86ed42-ed1c-43a7-9139-ed6ca521d080",
   "metadata": {},
   "outputs": [],
   "source": [
    "selected_df = selected_df.dropna()"
   ]
  },
  {
   "cell_type": "code",
   "execution_count": 93,
   "id": "9d30bbc7-7420-4ad2-b419-062639995067",
   "metadata": {},
   "outputs": [],
   "source": [
    " selected_df['Timestamp'] = pd.to_datetime(selected_df['Timestamp']).astype('int64') // 10**9"
   ]
  },
  {
   "cell_type": "code",
   "execution_count": 96,
   "id": "0824b7cd-430e-446d-97ab-e78df9bb3fb4",
   "metadata": {},
   "outputs": [],
   "source": [
    "def train_anomaly_detectors(selected_df):\n",
    "    scaler = StandardScaler()\n",
    "    selected_df_scaled = scaler.fit_transform(selected_df)\n"
   ]
  },
  {
   "cell_type": "code",
   "execution_count": 100,
   "id": "bea75834-0074-48f1-97ba-7452740b6366",
   "metadata": {},
   "outputs": [
    {
     "ename": "IndentationError",
     "evalue": "unexpected indent (544787051.py, line 4)",
     "output_type": "error",
     "traceback": [
      "\u001b[1;36m  Cell \u001b[1;32mIn[100], line 4\u001b[1;36m\u001b[0m\n\u001b[1;33m    selected_df['OneClassSVM'] = one_class_svm.predict(selected_df_scaled)\u001b[0m\n\u001b[1;37m    ^\u001b[0m\n\u001b[1;31mIndentationError\u001b[0m\u001b[1;31m:\u001b[0m unexpected indent\n"
     ]
    }
   ],
   "source": [
    "def predict_anomalies(models, selected_df):\n",
    "    isolation_forest, one_class_svm, lof = models\n",
    "selected_df['IsolationForest'] = isolation_forest.predict(selected_df_scaled)\n",
    "    selected_df['OneClassSVM'] = one_class_svm.predict(selected_df_scaled)\n",
    "    selected_df['LOF'] = lof.fit_predict(selected_df_scaled)\n",
    "\n",
    "    return selected_df"
   ]
  },
  {
   "cell_type": "code",
   "execution_count": null,
   "id": "e145d2b4-5a66-48e9-99b9-b03323f37b26",
   "metadata": {},
   "outputs": [],
   "source": []
  }
 ],
 "metadata": {
  "kernelspec": {
   "display_name": "Python 3 (ipykernel)",
   "language": "python",
   "name": "python3"
  },
  "language_info": {
   "codemirror_mode": {
    "name": "ipython",
    "version": 3
   },
   "file_extension": ".py",
   "mimetype": "text/x-python",
   "name": "python",
   "nbconvert_exporter": "python",
   "pygments_lexer": "ipython3",
   "version": "3.12.1"
  }
 },
 "nbformat": 4,
 "nbformat_minor": 5
}
